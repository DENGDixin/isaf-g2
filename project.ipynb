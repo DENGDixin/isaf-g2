{
 "cells": [
  {
   "cell_type": "markdown",
   "id": "934b8ee4",
   "metadata": {},
   "source": [
    "# Title"
   ]
  },
  {
   "cell_type": "markdown",
   "id": "4764f17e",
   "metadata": {},
   "source": [
    "## Step 0. Import packages and load data"
   ]
  },
  {
   "cell_type": "code",
   "execution_count": 1,
   "id": "882e904d",
   "metadata": {},
   "outputs": [],
   "source": [
    "import numpy as np \n",
    "import pandas as pd\n",
    "import matplotlib.pyplot as plt"
   ]
  },
  {
   "cell_type": "code",
   "execution_count": 2,
   "id": "824d6905",
   "metadata": {},
   "outputs": [],
   "source": [
    "df_n = pd.read_csv(\"data/dataproject2025.csv\")"
   ]
  },
  {
   "cell_type": "code",
   "execution_count": 3,
   "id": "9273afa0",
   "metadata": {},
   "outputs": [
    {
     "data": {
      "text/plain": [
       "Unnamed: 0                 0\n",
       "issue_d                    0\n",
       "loan duration              0\n",
       "annual_inc                 0\n",
       "avg_cur_bal                0\n",
       "bc_open_to_buy             0\n",
       "bc_util                    0\n",
       "delinq_2yrs                0\n",
       "dti                        0\n",
       "emp_length                 0\n",
       "emp_title                  0\n",
       "fico_range_high            0\n",
       "funded_amnt                0\n",
       "grade                      0\n",
       "home_ownership             0\n",
       "inq_last_6mths             0\n",
       "int_rate                   0\n",
       "mo_sin_old_rev_tl_op       0\n",
       "mo_sin_rcnt_rev_tl_op      0\n",
       "mo_sin_rcnt_tl             0\n",
       "mort_acc                   0\n",
       "mths_since_recent_bc       0\n",
       "num_actv_bc_tl             0\n",
       "num_bc_tl                  0\n",
       "num_il_tl                  0\n",
       "num_rev_accts              0\n",
       "open_acc                   0\n",
       "pub_rec                    0\n",
       "pub_rec_bankruptcies       0\n",
       "purpose                    0\n",
       "revol_bal                  0\n",
       "revol_util                 0\n",
       "sub_grade                  0\n",
       "target                     0\n",
       "tax_liens                  0\n",
       "zip_code                   0\n",
       "Pct_afro_american          0\n",
       "Predictions                0\n",
       "Predicted probabilities    0\n",
       "dtype: int64"
      ]
     },
     "execution_count": 3,
     "metadata": {},
     "output_type": "execute_result"
    }
   ],
   "source": [
    "df_n.isna().sum()"
   ]
  },
  {
   "cell_type": "code",
   "execution_count": 4,
   "id": "aa4b3fc4",
   "metadata": {},
   "outputs": [],
   "source": [
    "df = df_n.dropna()"
   ]
  },
  {
   "cell_type": "code",
   "execution_count": 5,
   "id": "d926c31f",
   "metadata": {},
   "outputs": [
    {
     "data": {
      "text/html": [
       "<div>\n",
       "<style scoped>\n",
       "    .dataframe tbody tr th:only-of-type {\n",
       "        vertical-align: middle;\n",
       "    }\n",
       "\n",
       "    .dataframe tbody tr th {\n",
       "        vertical-align: top;\n",
       "    }\n",
       "\n",
       "    .dataframe thead th {\n",
       "        text-align: right;\n",
       "    }\n",
       "</style>\n",
       "<table border=\"1\" class=\"dataframe\">\n",
       "  <thead>\n",
       "    <tr style=\"text-align: right;\">\n",
       "      <th></th>\n",
       "      <th>Unnamed: 0</th>\n",
       "      <th>issue_d</th>\n",
       "      <th>loan duration</th>\n",
       "      <th>annual_inc</th>\n",
       "      <th>avg_cur_bal</th>\n",
       "      <th>bc_open_to_buy</th>\n",
       "      <th>bc_util</th>\n",
       "      <th>delinq_2yrs</th>\n",
       "      <th>dti</th>\n",
       "      <th>emp_length</th>\n",
       "      <th>...</th>\n",
       "      <th>purpose</th>\n",
       "      <th>revol_bal</th>\n",
       "      <th>revol_util</th>\n",
       "      <th>sub_grade</th>\n",
       "      <th>target</th>\n",
       "      <th>tax_liens</th>\n",
       "      <th>zip_code</th>\n",
       "      <th>Pct_afro_american</th>\n",
       "      <th>Predictions</th>\n",
       "      <th>Predicted probabilities</th>\n",
       "    </tr>\n",
       "  </thead>\n",
       "  <tbody>\n",
       "    <tr>\n",
       "      <th>0</th>\n",
       "      <td>0</td>\n",
       "      <td>2013</td>\n",
       "      <td>0</td>\n",
       "      <td>39600.0</td>\n",
       "      <td>1379.0</td>\n",
       "      <td>21564.0</td>\n",
       "      <td>16.1</td>\n",
       "      <td>0.0</td>\n",
       "      <td>2.49</td>\n",
       "      <td>2 years</td>\n",
       "      <td>...</td>\n",
       "      <td>home_improvement</td>\n",
       "      <td>4136.0</td>\n",
       "      <td>16.1</td>\n",
       "      <td>B2</td>\n",
       "      <td>0</td>\n",
       "      <td>0.0</td>\n",
       "      <td>782</td>\n",
       "      <td>7.388592</td>\n",
       "      <td>0</td>\n",
       "      <td>0.053051</td>\n",
       "    </tr>\n",
       "    <tr>\n",
       "      <th>1</th>\n",
       "      <td>1</td>\n",
       "      <td>2013</td>\n",
       "      <td>0</td>\n",
       "      <td>55000.0</td>\n",
       "      <td>9570.0</td>\n",
       "      <td>16473.0</td>\n",
       "      <td>53.9</td>\n",
       "      <td>0.0</td>\n",
       "      <td>22.87</td>\n",
       "      <td>10+ years</td>\n",
       "      <td>...</td>\n",
       "      <td>debt_consolidation</td>\n",
       "      <td>36638.0</td>\n",
       "      <td>61.2</td>\n",
       "      <td>B2</td>\n",
       "      <td>0</td>\n",
       "      <td>0.0</td>\n",
       "      <td>481</td>\n",
       "      <td>9.745456</td>\n",
       "      <td>0</td>\n",
       "      <td>0.084507</td>\n",
       "    </tr>\n",
       "    <tr>\n",
       "      <th>2</th>\n",
       "      <td>2</td>\n",
       "      <td>2013</td>\n",
       "      <td>0</td>\n",
       "      <td>325000.0</td>\n",
       "      <td>53306.0</td>\n",
       "      <td>13901.0</td>\n",
       "      <td>67.1</td>\n",
       "      <td>0.0</td>\n",
       "      <td>18.55</td>\n",
       "      <td>5 years</td>\n",
       "      <td>...</td>\n",
       "      <td>debt_consolidation</td>\n",
       "      <td>29581.0</td>\n",
       "      <td>54.6</td>\n",
       "      <td>A3</td>\n",
       "      <td>0</td>\n",
       "      <td>0.0</td>\n",
       "      <td>945</td>\n",
       "      <td>7.542862</td>\n",
       "      <td>0</td>\n",
       "      <td>0.037206</td>\n",
       "    </tr>\n",
       "    <tr>\n",
       "      <th>3</th>\n",
       "      <td>3</td>\n",
       "      <td>2013</td>\n",
       "      <td>0</td>\n",
       "      <td>130000.0</td>\n",
       "      <td>36362.0</td>\n",
       "      <td>3567.0</td>\n",
       "      <td>93.0</td>\n",
       "      <td>0.0</td>\n",
       "      <td>13.03</td>\n",
       "      <td>10+ years</td>\n",
       "      <td>...</td>\n",
       "      <td>debt_consolidation</td>\n",
       "      <td>10805.0</td>\n",
       "      <td>67.0</td>\n",
       "      <td>B3</td>\n",
       "      <td>0</td>\n",
       "      <td>0.0</td>\n",
       "      <td>809</td>\n",
       "      <td>6.598132</td>\n",
       "      <td>0</td>\n",
       "      <td>0.061371</td>\n",
       "    </tr>\n",
       "    <tr>\n",
       "      <th>4</th>\n",
       "      <td>4</td>\n",
       "      <td>2013</td>\n",
       "      <td>1</td>\n",
       "      <td>73000.0</td>\n",
       "      <td>24161.0</td>\n",
       "      <td>4853.0</td>\n",
       "      <td>74.7</td>\n",
       "      <td>1.0</td>\n",
       "      <td>23.13</td>\n",
       "      <td>6 years</td>\n",
       "      <td>...</td>\n",
       "      <td>debt_consolidation</td>\n",
       "      <td>27003.0</td>\n",
       "      <td>82.8</td>\n",
       "      <td>D5</td>\n",
       "      <td>1</td>\n",
       "      <td>0.0</td>\n",
       "      <td>802</td>\n",
       "      <td>7.058900</td>\n",
       "      <td>1</td>\n",
       "      <td>0.345896</td>\n",
       "    </tr>\n",
       "  </tbody>\n",
       "</table>\n",
       "<p>5 rows × 39 columns</p>\n",
       "</div>"
      ],
      "text/plain": [
       "   Unnamed: 0  issue_d  loan duration  annual_inc  avg_cur_bal  \\\n",
       "0           0     2013              0     39600.0       1379.0   \n",
       "1           1     2013              0     55000.0       9570.0   \n",
       "2           2     2013              0    325000.0      53306.0   \n",
       "3           3     2013              0    130000.0      36362.0   \n",
       "4           4     2013              1     73000.0      24161.0   \n",
       "\n",
       "   bc_open_to_buy  bc_util  delinq_2yrs    dti emp_length  ...  \\\n",
       "0         21564.0     16.1          0.0   2.49    2 years  ...   \n",
       "1         16473.0     53.9          0.0  22.87  10+ years  ...   \n",
       "2         13901.0     67.1          0.0  18.55    5 years  ...   \n",
       "3          3567.0     93.0          0.0  13.03  10+ years  ...   \n",
       "4          4853.0     74.7          1.0  23.13    6 years  ...   \n",
       "\n",
       "              purpose  revol_bal  revol_util sub_grade target  tax_liens  \\\n",
       "0    home_improvement     4136.0        16.1        B2      0        0.0   \n",
       "1  debt_consolidation    36638.0        61.2        B2      0        0.0   \n",
       "2  debt_consolidation    29581.0        54.6        A3      0        0.0   \n",
       "3  debt_consolidation    10805.0        67.0        B3      0        0.0   \n",
       "4  debt_consolidation    27003.0        82.8        D5      1        0.0   \n",
       "\n",
       "   zip_code  Pct_afro_american  Predictions  Predicted probabilities  \n",
       "0       782           7.388592            0                 0.053051  \n",
       "1       481           9.745456            0                 0.084507  \n",
       "2       945           7.542862            0                 0.037206  \n",
       "3       809           6.598132            0                 0.061371  \n",
       "4       802           7.058900            1                 0.345896  \n",
       "\n",
       "[5 rows x 39 columns]"
      ]
     },
     "execution_count": 5,
     "metadata": {},
     "output_type": "execute_result"
    }
   ],
   "source": [
    "df.head()"
   ]
  },
  {
   "cell_type": "code",
   "execution_count": 6,
   "id": "16e590ba",
   "metadata": {},
   "outputs": [
    {
     "name": "stdout",
     "output_type": "stream",
     "text": [
      "Columns: ['Unnamed: 0', 'issue_d', 'loan duration', 'annual_inc', 'avg_cur_bal', 'bc_open_to_buy', 'bc_util', 'delinq_2yrs', 'dti', 'emp_length', 'emp_title', 'fico_range_high', 'funded_amnt', 'grade', 'home_ownership', 'inq_last_6mths', 'int_rate', 'mo_sin_old_rev_tl_op', 'mo_sin_rcnt_rev_tl_op', 'mo_sin_rcnt_tl', 'mort_acc', 'mths_since_recent_bc', 'num_actv_bc_tl', 'num_bc_tl', 'num_il_tl', 'num_rev_accts', 'open_acc', 'pub_rec', 'pub_rec_bankruptcies', 'purpose', 'revol_bal', 'revol_util', 'sub_grade', 'target', 'tax_liens', 'zip_code', 'Pct_afro_american', 'Predictions', 'Predicted probabilities']\n",
      "\n",
      "Data types:\n",
      "Unnamed: 0                   int64\n",
      "issue_d                      int64\n",
      "loan duration                int64\n",
      "annual_inc                 float64\n",
      "avg_cur_bal                float64\n",
      "bc_open_to_buy             float64\n",
      "bc_util                    float64\n",
      "delinq_2yrs                float64\n",
      "dti                        float64\n",
      "emp_length                  object\n",
      "emp_title                   object\n",
      "fico_range_high            float64\n",
      "funded_amnt                float64\n",
      "grade                       object\n",
      "home_ownership              object\n",
      "inq_last_6mths             float64\n",
      "int_rate                   float64\n",
      "mo_sin_old_rev_tl_op       float64\n",
      "mo_sin_rcnt_rev_tl_op      float64\n",
      "mo_sin_rcnt_tl             float64\n",
      "mort_acc                   float64\n",
      "mths_since_recent_bc       float64\n",
      "num_actv_bc_tl             float64\n",
      "num_bc_tl                  float64\n",
      "num_il_tl                  float64\n",
      "num_rev_accts              float64\n",
      "open_acc                   float64\n",
      "pub_rec                    float64\n",
      "pub_rec_bankruptcies       float64\n",
      "purpose                     object\n",
      "revol_bal                  float64\n",
      "revol_util                 float64\n",
      "sub_grade                   object\n",
      "target                       int64\n",
      "tax_liens                  float64\n",
      "zip_code                     int64\n",
      "Pct_afro_american          float64\n",
      "Predictions                  int64\n",
      "Predicted probabilities    float64\n",
      "dtype: object\n",
      "\n",
      "Dataframe shape: (1086236, 39)\n"
     ]
    }
   ],
   "source": [
    "# Check column names and data types\n",
    "print(\"Columns:\", df.columns.tolist())\n",
    "print(\"\\nData types:\")\n",
    "print(df.dtypes)\n",
    "print(f\"\\nDataframe shape: {df.shape}\")"
   ]
  },
  {
   "cell_type": "code",
   "execution_count": 7,
   "id": "02dd189d",
   "metadata": {},
   "outputs": [
    {
     "data": {
      "text/plain": [
       "array([0.0530511 , 0.0845068 , 0.03720555, ..., 0.08110127, 0.15007915,\n",
       "       0.37907901])"
      ]
     },
     "execution_count": 7,
     "metadata": {},
     "output_type": "execute_result"
    }
   ],
   "source": [
    "df[\"Predicted probabilities\"].unique()"
   ]
  },
  {
   "cell_type": "markdown",
   "id": "200d559f",
   "metadata": {},
   "source": [
    "## Step 1."
   ]
  },
  {
   "cell_type": "markdown",
   "id": "47c852dc",
   "metadata": {},
   "source": [
    "## Step 2."
   ]
  },
  {
   "cell_type": "code",
   "execution_count": 8,
   "id": "e293b2c3",
   "metadata": {},
   "outputs": [
    {
     "name": "stdout",
     "output_type": "stream",
     "text": [
      "Training set: (760365, 35), Test set: (325871, 35)\n",
      "Class distribution: {0: 0.79, 1: 0.21}\n"
     ]
    }
   ],
   "source": [
    "# Simplified approach using sklearn pipelines\n",
    "from sklearn.pipeline import Pipeline\n",
    "from sklearn.compose import ColumnTransformer\n",
    "from sklearn.preprocessing import LabelEncoder, StandardScaler\n",
    "from sklearn.model_selection import train_test_split\n",
    "from sklearn.metrics import accuracy_score, classification_report, roc_auc_score\n",
    "import xgboost as xgb\n",
    "import lightgbm as lgb\n",
    "\n",
    "import warnings\n",
    "from sklearn.exceptions import DataConversionWarning\n",
    "\n",
    "# Suppress the specific sklearn warnings about feature names\n",
    "warnings.filterwarnings('ignore', message='X does not have valid feature names')\n",
    "warnings.filterwarnings('ignore', category=DataConversionWarning)\n",
    "\n",
    "# Prepare data - use original features without manual encoding\n",
    "X = df.drop(columns=['Unnamed: 0', 'target', 'Predictions', 'Predicted probabilities'])\n",
    "y = df['target']\n",
    "\n",
    "# Split the data first\n",
    "X_train, X_test, y_train, y_test = train_test_split(\n",
    "    X, y, test_size=0.3, random_state=42, stratify=y\n",
    ")\n",
    "\n",
    "print(f\"Training set: {X_train.shape}, Test set: {X_test.shape}\")\n",
    "print(f\"Class distribution: {y_train.value_counts(normalize=True).round(3).to_dict()}\")"
   ]
  },
  {
   "cell_type": "code",
   "execution_count": 9,
   "id": "3a2a717a",
   "metadata": {},
   "outputs": [
    {
     "name": "stdout",
     "output_type": "stream",
     "text": [
      "Categorical features (6): ['emp_length', 'emp_title', 'grade', 'home_ownership', 'purpose', 'sub_grade']\n",
      "Numerical features (29): 29 columns\n",
      "Pipeline created successfully!\n"
     ]
    }
   ],
   "source": [
    "# Identify categorical and numerical columns\n",
    "categorical_features = X.select_dtypes(include=['object']).columns.tolist()\n",
    "numerical_features = X.select_dtypes(exclude=['object']).columns.tolist()\n",
    "\n",
    "print(f\"Categorical features ({len(categorical_features)}): {categorical_features}\")\n",
    "print(f\"Numerical features ({len(numerical_features)}): {len(numerical_features)} columns\")\n",
    "\n",
    "# Create preprocessing pipeline\n",
    "from sklearn.preprocessing import OneHotEncoder\n",
    "\n",
    "preprocessor = ColumnTransformer(\n",
    "    transformers=[\n",
    "        ('num', StandardScaler(), numerical_features),\n",
    "        ('cat', OneHotEncoder(handle_unknown='ignore', sparse_output=False), categorical_features)\n",
    "    ]\n",
    ")\n",
    "\n",
    "# Create XGBoost pipeline\n",
    "xgb_pipeline = Pipeline([\n",
    "    ('preprocessor', preprocessor),\n",
    "    ('classifier', xgb.XGBClassifier())\n",
    "])\n",
    "\n",
    "print(\"Pipeline created successfully!\")"
   ]
  },
  {
   "cell_type": "code",
   "execution_count": 10,
   "id": "93d36a50",
   "metadata": {},
   "outputs": [
    {
     "name": "stdout",
     "output_type": "stream",
     "text": [
      "Training models using pipelines...\n",
      "Training XGBoost...\n"
     ]
    },
    {
     "name": "stdout",
     "output_type": "stream",
     "text": [
      "Training completed!\n",
      "\n",
      "XGBoost - Accuracy: 0.7945, AUC: 0.7210\n"
     ]
    }
   ],
   "source": [
    "# Train both models using pipelines\n",
    "print(\"Training models using pipelines...\")\n",
    "\n",
    "# Train XGBoost\n",
    "print(\"Training XGBoost...\")\n",
    "xgb_pipeline.fit(X_train, y_train)\n",
    "\n",
    "print(\"Training completed!\")\n",
    "\n",
    "# Make predictions\n",
    "xgb_pred = xgb_pipeline.predict(X_test)\n",
    "xgb_pred_proba = xgb_pipeline.predict_proba(X_test)[:, 1]\n",
    "\n",
    "# Calculate metrics\n",
    "xgb_accuracy = accuracy_score(y_test, xgb_pred)\n",
    "xgb_auc = roc_auc_score(y_test, xgb_pred_proba)\n",
    "\n",
    "print(f\"\\nXGBoost - Accuracy: {xgb_accuracy:.4f}, AUC: {xgb_auc:.4f}\")"
   ]
  },
  {
   "cell_type": "code",
   "execution_count": 11,
   "id": "b5b929cf",
   "metadata": {},
   "outputs": [
    {
     "name": "stdout",
     "output_type": "stream",
     "text": [
      "              Model  Accuracy  AUC Score\n",
      "0  XGBoost Pipeline    0.7945      0.721\n",
      "\n",
      "======================================================================\n",
      "CLASSIFICATION REPORTS\n",
      "======================================================================\n",
      "\n",
      "XGBoost Classification Report:\n",
      "              precision    recall  f1-score   support\n",
      "\n",
      "           0       0.80      0.98      0.88    257277\n",
      "           1       0.56      0.11      0.18     68594\n",
      "\n",
      "    accuracy                           0.79    325871\n",
      "   macro avg       0.68      0.54      0.53    325871\n",
      "weighted avg       0.75      0.79      0.74    325871\n",
      "\n"
     ]
    }
   ],
   "source": [
    "# Create comparison DataFrame\n",
    "results_df = pd.DataFrame({\n",
    "    'Model': ['XGBoost Pipeline'],\n",
    "    'Accuracy': [xgb_accuracy],\n",
    "    'AUC Score': [xgb_auc]\n",
    "})\n",
    "\n",
    "print(results_df.round(4))\n",
    "\n",
    "print(\"\\n\" + \"=\" * 70)\n",
    "print(\"CLASSIFICATION REPORTS\")\n",
    "print(\"=\" * 70)\n",
    "\n",
    "print(\"\\nXGBoost Classification Report:\")\n",
    "print(classification_report(y_test, xgb_pred))"
   ]
  }
 ],
 "metadata": {
  "kernelspec": {
   "display_name": "study",
   "language": "python",
   "name": "python3"
  },
  "language_info": {
   "codemirror_mode": {
    "name": "ipython",
    "version": 3
   },
   "file_extension": ".py",
   "mimetype": "text/x-python",
   "name": "python",
   "nbconvert_exporter": "python",
   "pygments_lexer": "ipython3",
   "version": "3.12.9"
  }
 },
 "nbformat": 4,
 "nbformat_minor": 5
}
